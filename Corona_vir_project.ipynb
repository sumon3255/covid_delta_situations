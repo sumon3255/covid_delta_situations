{
 "cells": [
  {
   "cell_type": "code",
   "execution_count": 1,
   "id": "ac639896",
   "metadata": {},
   "outputs": [],
   "source": [
    "import pandas as pd"
   ]
  },
  {
   "cell_type": "markdown",
   "id": "9ec7be34",
   "metadata": {},
   "source": [
    "# Read Data"
   ]
  },
  {
   "cell_type": "code",
   "execution_count": 2,
   "id": "92035b2f",
   "metadata": {},
   "outputs": [],
   "source": [
    "data = pd.read_csv(\"data.csv\")"
   ]
  },
  {
   "cell_type": "code",
   "execution_count": 3,
   "id": "4e35b843",
   "metadata": {},
   "outputs": [
    {
     "data": {
      "text/html": [
       "<div>\n",
       "<style scoped>\n",
       "    .dataframe tbody tr th:only-of-type {\n",
       "        vertical-align: middle;\n",
       "    }\n",
       "\n",
       "    .dataframe tbody tr th {\n",
       "        vertical-align: top;\n",
       "    }\n",
       "\n",
       "    .dataframe thead th {\n",
       "        text-align: right;\n",
       "    }\n",
       "</style>\n",
       "<table border=\"1\" class=\"dataframe\">\n",
       "  <thead>\n",
       "    <tr style=\"text-align: right;\">\n",
       "      <th></th>\n",
       "      <th>fiver</th>\n",
       "      <th>age</th>\n",
       "      <th>headach</th>\n",
       "      <th>runnyNose</th>\n",
       "      <th>persistent Cough</th>\n",
       "      <th>sore throatr</th>\n",
       "      <th>diffBreath</th>\n",
       "      <th>loss of smell</th>\n",
       "      <th>innfectionProb</th>\n",
       "    </tr>\n",
       "  </thead>\n",
       "  <tbody>\n",
       "    <tr>\n",
       "      <th>0</th>\n",
       "      <td>101.074377</td>\n",
       "      <td>11</td>\n",
       "      <td>0</td>\n",
       "      <td>0</td>\n",
       "      <td>1</td>\n",
       "      <td>0</td>\n",
       "      <td>0</td>\n",
       "      <td>0</td>\n",
       "      <td>0</td>\n",
       "    </tr>\n",
       "    <tr>\n",
       "      <th>1</th>\n",
       "      <td>101.633515</td>\n",
       "      <td>96</td>\n",
       "      <td>1</td>\n",
       "      <td>0</td>\n",
       "      <td>0</td>\n",
       "      <td>0</td>\n",
       "      <td>1</td>\n",
       "      <td>0</td>\n",
       "      <td>0</td>\n",
       "    </tr>\n",
       "    <tr>\n",
       "      <th>2</th>\n",
       "      <td>100.537922</td>\n",
       "      <td>21</td>\n",
       "      <td>0</td>\n",
       "      <td>1</td>\n",
       "      <td>0</td>\n",
       "      <td>1</td>\n",
       "      <td>1</td>\n",
       "      <td>0</td>\n",
       "      <td>0</td>\n",
       "    </tr>\n",
       "    <tr>\n",
       "      <th>3</th>\n",
       "      <td>99.744629</td>\n",
       "      <td>94</td>\n",
       "      <td>1</td>\n",
       "      <td>1</td>\n",
       "      <td>0</td>\n",
       "      <td>0</td>\n",
       "      <td>1</td>\n",
       "      <td>1</td>\n",
       "      <td>1</td>\n",
       "    </tr>\n",
       "    <tr>\n",
       "      <th>4</th>\n",
       "      <td>98.792928</td>\n",
       "      <td>22</td>\n",
       "      <td>0</td>\n",
       "      <td>0</td>\n",
       "      <td>1</td>\n",
       "      <td>0</td>\n",
       "      <td>-1</td>\n",
       "      <td>1</td>\n",
       "      <td>0</td>\n",
       "    </tr>\n",
       "  </tbody>\n",
       "</table>\n",
       "</div>"
      ],
      "text/plain": [
       "        fiver  age  headach  runnyNose  persistent Cough  sore throatr  \\\n",
       "0  101.074377   11        0          0                 1             0   \n",
       "1  101.633515   96        1          0                 0             0   \n",
       "2  100.537922   21        0          1                 0             1   \n",
       "3   99.744629   94        1          1                 0             0   \n",
       "4   98.792928   22        0          0                 1             0   \n",
       "\n",
       "   diffBreath  loss of smell  innfectionProb  \n",
       "0           0              0               0  \n",
       "1           1              0               0  \n",
       "2           1              0               0  \n",
       "3           1              1               1  \n",
       "4          -1              1               0  "
      ]
     },
     "execution_count": 3,
     "metadata": {},
     "output_type": "execute_result"
    }
   ],
   "source": [
    "data.head() #top five values"
   ]
  },
  {
   "cell_type": "code",
   "execution_count": 4,
   "id": "db25391a",
   "metadata": {},
   "outputs": [
    {
     "data": {
      "text/html": [
       "<div>\n",
       "<style scoped>\n",
       "    .dataframe tbody tr th:only-of-type {\n",
       "        vertical-align: middle;\n",
       "    }\n",
       "\n",
       "    .dataframe tbody tr th {\n",
       "        vertical-align: top;\n",
       "    }\n",
       "\n",
       "    .dataframe thead th {\n",
       "        text-align: right;\n",
       "    }\n",
       "</style>\n",
       "<table border=\"1\" class=\"dataframe\">\n",
       "  <thead>\n",
       "    <tr style=\"text-align: right;\">\n",
       "      <th></th>\n",
       "      <th>fiver</th>\n",
       "      <th>age</th>\n",
       "      <th>headach</th>\n",
       "      <th>runnyNose</th>\n",
       "      <th>persistent Cough</th>\n",
       "      <th>sore throatr</th>\n",
       "      <th>diffBreath</th>\n",
       "      <th>loss of smell</th>\n",
       "      <th>innfectionProb</th>\n",
       "    </tr>\n",
       "  </thead>\n",
       "  <tbody>\n",
       "    <tr>\n",
       "      <th>1080</th>\n",
       "      <td>98.374678</td>\n",
       "      <td>15</td>\n",
       "      <td>1</td>\n",
       "      <td>0</td>\n",
       "      <td>0</td>\n",
       "      <td>0</td>\n",
       "      <td>1</td>\n",
       "      <td>0</td>\n",
       "      <td>1</td>\n",
       "    </tr>\n",
       "    <tr>\n",
       "      <th>1081</th>\n",
       "      <td>101.322187</td>\n",
       "      <td>89</td>\n",
       "      <td>0</td>\n",
       "      <td>0</td>\n",
       "      <td>1</td>\n",
       "      <td>0</td>\n",
       "      <td>0</td>\n",
       "      <td>1</td>\n",
       "      <td>0</td>\n",
       "    </tr>\n",
       "    <tr>\n",
       "      <th>1082</th>\n",
       "      <td>99.513842</td>\n",
       "      <td>62</td>\n",
       "      <td>0</td>\n",
       "      <td>0</td>\n",
       "      <td>0</td>\n",
       "      <td>1</td>\n",
       "      <td>-1</td>\n",
       "      <td>0</td>\n",
       "      <td>0</td>\n",
       "    </tr>\n",
       "    <tr>\n",
       "      <th>1083</th>\n",
       "      <td>99.074097</td>\n",
       "      <td>31</td>\n",
       "      <td>1</td>\n",
       "      <td>1</td>\n",
       "      <td>1</td>\n",
       "      <td>1</td>\n",
       "      <td>0</td>\n",
       "      <td>0</td>\n",
       "      <td>1</td>\n",
       "    </tr>\n",
       "    <tr>\n",
       "      <th>1084</th>\n",
       "      <td>99.074252</td>\n",
       "      <td>88</td>\n",
       "      <td>1</td>\n",
       "      <td>1</td>\n",
       "      <td>1</td>\n",
       "      <td>0</td>\n",
       "      <td>1</td>\n",
       "      <td>0</td>\n",
       "      <td>0</td>\n",
       "    </tr>\n",
       "  </tbody>\n",
       "</table>\n",
       "</div>"
      ],
      "text/plain": [
       "           fiver  age  headach  runnyNose  persistent Cough  sore throatr  \\\n",
       "1080   98.374678   15        1          0                 0             0   \n",
       "1081  101.322187   89        0          0                 1             0   \n",
       "1082   99.513842   62        0          0                 0             1   \n",
       "1083   99.074097   31        1          1                 1             1   \n",
       "1084   99.074252   88        1          1                 1             0   \n",
       "\n",
       "      diffBreath  loss of smell  innfectionProb  \n",
       "1080           1              0               1  \n",
       "1081           0              1               0  \n",
       "1082          -1              0               0  \n",
       "1083           0              0               1  \n",
       "1084           1              0               0  "
      ]
     },
     "execution_count": 4,
     "metadata": {},
     "output_type": "execute_result"
    }
   ],
   "source": [
    "data.tail()"
   ]
  },
  {
   "cell_type": "code",
   "execution_count": 5,
   "id": "b2fe7a78",
   "metadata": {},
   "outputs": [
    {
     "name": "stdout",
     "output_type": "stream",
     "text": [
      "<class 'pandas.core.frame.DataFrame'>\n",
      "RangeIndex: 1085 entries, 0 to 1084\n",
      "Data columns (total 9 columns):\n",
      " #   Column            Non-Null Count  Dtype  \n",
      "---  ------            --------------  -----  \n",
      " 0   fiver             1085 non-null   float64\n",
      " 1   age               1085 non-null   int64  \n",
      " 2   headach           1085 non-null   int64  \n",
      " 3   runnyNose         1085 non-null   int64  \n",
      " 4   persistent Cough  1085 non-null   int64  \n",
      " 5   sore throatr      1085 non-null   int64  \n",
      " 6   diffBreath        1085 non-null   int64  \n",
      " 7   loss of smell     1085 non-null   int64  \n",
      " 8   innfectionProb    1085 non-null   int64  \n",
      "dtypes: float64(1), int64(8)\n",
      "memory usage: 76.4 KB\n"
     ]
    }
   ],
   "source": [
    "data.info() #give info"
   ]
  },
  {
   "cell_type": "code",
   "execution_count": 6,
   "id": "e0f0f0a4",
   "metadata": {},
   "outputs": [
    {
     "data": {
      "text/html": [
       "<div>\n",
       "<style scoped>\n",
       "    .dataframe tbody tr th:only-of-type {\n",
       "        vertical-align: middle;\n",
       "    }\n",
       "\n",
       "    .dataframe tbody tr th {\n",
       "        vertical-align: top;\n",
       "    }\n",
       "\n",
       "    .dataframe thead th {\n",
       "        text-align: right;\n",
       "    }\n",
       "</style>\n",
       "<table border=\"1\" class=\"dataframe\">\n",
       "  <thead>\n",
       "    <tr style=\"text-align: right;\">\n",
       "      <th></th>\n",
       "      <th>fiver</th>\n",
       "      <th>age</th>\n",
       "      <th>headach</th>\n",
       "      <th>runnyNose</th>\n",
       "      <th>persistent Cough</th>\n",
       "      <th>sore throatr</th>\n",
       "      <th>diffBreath</th>\n",
       "      <th>loss of smell</th>\n",
       "      <th>innfectionProb</th>\n",
       "    </tr>\n",
       "  </thead>\n",
       "  <tbody>\n",
       "    <tr>\n",
       "      <th>count</th>\n",
       "      <td>1085.000000</td>\n",
       "      <td>1085.000000</td>\n",
       "      <td>1085.000000</td>\n",
       "      <td>1085.000000</td>\n",
       "      <td>1085.000000</td>\n",
       "      <td>1085.000000</td>\n",
       "      <td>1085.000000</td>\n",
       "      <td>1085.000000</td>\n",
       "      <td>1085.000000</td>\n",
       "    </tr>\n",
       "    <tr>\n",
       "      <th>mean</th>\n",
       "      <td>100.019557</td>\n",
       "      <td>51.540092</td>\n",
       "      <td>0.517051</td>\n",
       "      <td>0.513364</td>\n",
       "      <td>0.504147</td>\n",
       "      <td>0.491244</td>\n",
       "      <td>0.009217</td>\n",
       "      <td>0.507834</td>\n",
       "      <td>0.529032</td>\n",
       "    </tr>\n",
       "    <tr>\n",
       "      <th>std</th>\n",
       "      <td>1.159119</td>\n",
       "      <td>28.694753</td>\n",
       "      <td>0.499940</td>\n",
       "      <td>0.500052</td>\n",
       "      <td>0.500213</td>\n",
       "      <td>0.500154</td>\n",
       "      <td>0.811533</td>\n",
       "      <td>0.500169</td>\n",
       "      <td>0.499387</td>\n",
       "    </tr>\n",
       "    <tr>\n",
       "      <th>min</th>\n",
       "      <td>98.008788</td>\n",
       "      <td>1.000000</td>\n",
       "      <td>0.000000</td>\n",
       "      <td>0.000000</td>\n",
       "      <td>0.000000</td>\n",
       "      <td>0.000000</td>\n",
       "      <td>-1.000000</td>\n",
       "      <td>0.000000</td>\n",
       "      <td>0.000000</td>\n",
       "    </tr>\n",
       "    <tr>\n",
       "      <th>25%</th>\n",
       "      <td>99.037105</td>\n",
       "      <td>27.000000</td>\n",
       "      <td>0.000000</td>\n",
       "      <td>0.000000</td>\n",
       "      <td>0.000000</td>\n",
       "      <td>0.000000</td>\n",
       "      <td>-1.000000</td>\n",
       "      <td>0.000000</td>\n",
       "      <td>0.000000</td>\n",
       "    </tr>\n",
       "    <tr>\n",
       "      <th>50%</th>\n",
       "      <td>100.055143</td>\n",
       "      <td>51.000000</td>\n",
       "      <td>1.000000</td>\n",
       "      <td>1.000000</td>\n",
       "      <td>1.000000</td>\n",
       "      <td>0.000000</td>\n",
       "      <td>0.000000</td>\n",
       "      <td>1.000000</td>\n",
       "      <td>1.000000</td>\n",
       "    </tr>\n",
       "    <tr>\n",
       "      <th>75%</th>\n",
       "      <td>101.006501</td>\n",
       "      <td>76.000000</td>\n",
       "      <td>1.000000</td>\n",
       "      <td>1.000000</td>\n",
       "      <td>1.000000</td>\n",
       "      <td>1.000000</td>\n",
       "      <td>1.000000</td>\n",
       "      <td>1.000000</td>\n",
       "      <td>1.000000</td>\n",
       "    </tr>\n",
       "    <tr>\n",
       "      <th>max</th>\n",
       "      <td>101.999064</td>\n",
       "      <td>100.000000</td>\n",
       "      <td>1.000000</td>\n",
       "      <td>1.000000</td>\n",
       "      <td>1.000000</td>\n",
       "      <td>1.000000</td>\n",
       "      <td>1.000000</td>\n",
       "      <td>1.000000</td>\n",
       "      <td>1.000000</td>\n",
       "    </tr>\n",
       "  </tbody>\n",
       "</table>\n",
       "</div>"
      ],
      "text/plain": [
       "             fiver          age      headach    runnyNose  persistent Cough  \\\n",
       "count  1085.000000  1085.000000  1085.000000  1085.000000       1085.000000   \n",
       "mean    100.019557    51.540092     0.517051     0.513364          0.504147   \n",
       "std       1.159119    28.694753     0.499940     0.500052          0.500213   \n",
       "min      98.008788     1.000000     0.000000     0.000000          0.000000   \n",
       "25%      99.037105    27.000000     0.000000     0.000000          0.000000   \n",
       "50%     100.055143    51.000000     1.000000     1.000000          1.000000   \n",
       "75%     101.006501    76.000000     1.000000     1.000000          1.000000   \n",
       "max     101.999064   100.000000     1.000000     1.000000          1.000000   \n",
       "\n",
       "       sore throatr   diffBreath  loss of smell  innfectionProb  \n",
       "count   1085.000000  1085.000000    1085.000000     1085.000000  \n",
       "mean       0.491244     0.009217       0.507834        0.529032  \n",
       "std        0.500154     0.811533       0.500169        0.499387  \n",
       "min        0.000000    -1.000000       0.000000        0.000000  \n",
       "25%        0.000000    -1.000000       0.000000        0.000000  \n",
       "50%        0.000000     0.000000       1.000000        1.000000  \n",
       "75%        1.000000     1.000000       1.000000        1.000000  \n",
       "max        1.000000     1.000000       1.000000        1.000000  "
      ]
     },
     "execution_count": 6,
     "metadata": {},
     "output_type": "execute_result"
    }
   ],
   "source": [
    "data.describe()"
   ]
  },
  {
   "cell_type": "code",
   "execution_count": 7,
   "id": "3db4ede9",
   "metadata": {},
   "outputs": [
    {
     "data": {
      "text/plain": [
       "fiver               0\n",
       "age                 0\n",
       "headach             0\n",
       "runnyNose           0\n",
       "persistent Cough    0\n",
       "sore throatr        0\n",
       "diffBreath          0\n",
       "loss of smell       0\n",
       "innfectionProb      0\n",
       "dtype: int64"
      ]
     },
     "execution_count": 7,
     "metadata": {},
     "output_type": "execute_result"
    }
   ],
   "source": [
    "# Checking existence of null value in the dataset\n",
    "\n",
    "data.isnull().sum()\n",
    "\n",
    "# No null value is present in the dataset"
   ]
  },
  {
   "cell_type": "code",
   "execution_count": 8,
   "id": "66fc16d0",
   "metadata": {},
   "outputs": [
    {
     "data": {
      "text/plain": [
       " 0    371\n",
       " 1    362\n",
       "-1    352\n",
       "Name: diffBreath, dtype: int64"
      ]
     },
     "execution_count": 8,
     "metadata": {},
     "output_type": "execute_result"
    }
   ],
   "source": [
    "data['diffBreath'].value_counts()"
   ]
  },
  {
   "cell_type": "markdown",
   "id": "c8d708bd",
   "metadata": {},
   "source": [
    "# Train test Split"
   ]
  },
  {
   "cell_type": "code",
   "execution_count": 9,
   "id": "67b0191e",
   "metadata": {},
   "outputs": [],
   "source": [
    "import numpy as np #train test split technique for evaluating the performance of a machine learning algorithm.\n",
    "#The training dataset is used to prepare a model, to train it\n",
    "#The “training” data set is the general term for the samples used to create the model, while the “test” or “validation” data set is used to qualify performance.\n",
    "#A test set is therefore a set of examples used only to assess the performance"
   ]
  },
  {
   "cell_type": "code",
   "execution_count": 10,
   "id": "c01192f1",
   "metadata": {},
   "outputs": [],
   "source": [
    "def split(data,ratio):\n",
    "    np.random.seed(42) #freeze random value\n",
    "    shuffled = np.random.permutation(len(data)) #random shuffle num generate krbe\n",
    "    test_set_size = int(len(data)*ratio)\n",
    "    test_indicies = shuffled[:test_set_size] #create value according to testsize row and colum\n",
    "    train_indicies = shuffled[test_set_size:]  \n",
    "    return data.iloc[train_indicies], data.iloc[test_indicies]"
   ]
  },
  {
   "cell_type": "code",
   "execution_count": 11,
   "id": "8878c061",
   "metadata": {},
   "outputs": [
    {
     "data": {
      "text/plain": [
       "array([1, 3, 2, 6, 5, 4, 0])"
      ]
     },
     "execution_count": 11,
     "metadata": {},
     "output_type": "execute_result"
    }
   ],
   "source": [
    "np.random.permutation(7) #permutaion ki kre"
   ]
  },
  {
   "cell_type": "code",
   "execution_count": 12,
   "id": "edbd3f1a",
   "metadata": {},
   "outputs": [],
   "source": [
    "train , test = split(data,0.2)"
   ]
  },
  {
   "cell_type": "code",
   "execution_count": 31,
   "id": "da87cef3",
   "metadata": {
    "scrolled": true
   },
   "outputs": [
    {
     "data": {
      "text/plain": [
       "868"
      ]
     },
     "execution_count": 31,
     "metadata": {},
     "output_type": "execute_result"
    }
   ],
   "source": [
    "len(train)"
   ]
  },
  {
   "cell_type": "code",
   "execution_count": 32,
   "id": "81d39cd8",
   "metadata": {
    "scrolled": true
   },
   "outputs": [
    {
     "data": {
      "text/plain": [
       "217"
      ]
     },
     "execution_count": 32,
     "metadata": {},
     "output_type": "execute_result"
    }
   ],
   "source": [
    "len(test)"
   ]
  },
  {
   "cell_type": "code",
   "execution_count": 15,
   "id": "a3ad7ef8",
   "metadata": {},
   "outputs": [],
   "source": [
    "X_train = train[['fiver','age','headach','runnyNose','persistent Cough','sore throatr','diffBreath','loss of smell']].to_numpy()\n",
    "X_test = test[['fiver','age','headach','runnyNose','persistent Cough','sore throatr','diffBreath','loss of smell']].to_numpy()"
   ]
  },
  {
   "cell_type": "code",
   "execution_count": 16,
   "id": "06502668",
   "metadata": {},
   "outputs": [
    {
     "data": {
      "text/plain": [
       "array([[ 99.42565649,  34.        ,   1.        , ...,   1.        ,\n",
       "          0.        ,   1.        ],\n",
       "       [101.2857481 ,  19.        ,   1.        , ...,   1.        ,\n",
       "          0.        ,   0.        ],\n",
       "       [ 99.17931496,  77.        ,   1.        , ...,   0.        ,\n",
       "          0.        ,   1.        ],\n",
       "       ...,\n",
       "       [101.7582479 ,  49.        ,   0.        , ...,   1.        ,\n",
       "         -1.        ,   0.        ],\n",
       "       [101.9558805 ,  31.        ,   0.        , ...,   0.        ,\n",
       "          0.        ,   0.        ],\n",
       "       [101.9621554 ,  66.        ,   1.        , ...,   0.        ,\n",
       "          1.        ,   1.        ]])"
      ]
     },
     "execution_count": 16,
     "metadata": {},
     "output_type": "execute_result"
    }
   ],
   "source": [
    "X_train #numpy array pabo"
   ]
  },
  {
   "cell_type": "code",
   "execution_count": 17,
   "id": "e121c349",
   "metadata": {},
   "outputs": [
    {
     "data": {
      "text/plain": [
       "array([[ 99.18958532,  40.        ,   0.        , ...,   0.        ,\n",
       "          0.        ,   0.        ],\n",
       "       [ 99.90429307,   8.        ,   0.        , ...,   1.        ,\n",
       "         -1.        ,   1.        ],\n",
       "       [100.8431006 ,  79.        ,   1.        , ...,   1.        ,\n",
       "         -1.        ,   1.        ],\n",
       "       ...,\n",
       "       [100.9488025 ,  58.        ,   0.        , ...,   1.        ,\n",
       "          0.        ,   1.        ],\n",
       "       [ 98.73389005,  57.        ,   1.        , ...,   1.        ,\n",
       "         -1.        ,   1.        ],\n",
       "       [101.6436807 ,  68.        ,   1.        , ...,   0.        ,\n",
       "         -1.        ,   1.        ]])"
      ]
     },
     "execution_count": 17,
     "metadata": {},
     "output_type": "execute_result"
    }
   ],
   "source": [
    "X_test"
   ]
  },
  {
   "cell_type": "code",
   "execution_count": 18,
   "id": "7c41307b",
   "metadata": {},
   "outputs": [],
   "source": [
    "Y_train = train[['innfectionProb']].to_numpy().reshape(868,)\n",
    "Y_test = test[['innfectionProb']].to_numpy().reshape(217,)"
   ]
  },
  {
   "cell_type": "code",
   "execution_count": 19,
   "id": "9ed5866b",
   "metadata": {},
   "outputs": [
    {
     "data": {
      "text/plain": [
       "array([0, 0, 1, 1, 1, 0, 0, 0, 0, 1, 0, 1, 0, 1, 0, 0, 0, 1, 1, 0, 0, 1,\n",
       "       0, 1, 0, 1, 1, 0, 0, 0, 1, 0, 0, 0, 1, 0, 0, 1, 0, 1, 0, 0, 0, 1,\n",
       "       1, 0, 0, 0, 1, 0, 1, 0, 0, 0, 1, 0, 1, 0, 1, 0, 1, 1, 0, 0, 1, 1,\n",
       "       1, 0, 0, 0, 1, 0, 1, 1, 0, 0, 1, 1, 1, 1, 0, 0, 0, 1, 0, 0, 1, 0,\n",
       "       1, 1, 0, 1, 0, 1, 1, 1, 0, 1, 0, 1, 1, 1, 0, 1, 1, 1, 0, 1, 1, 0,\n",
       "       0, 1, 0, 0, 1, 0, 0, 1, 1, 1, 1, 1, 1, 1, 0, 0, 1, 1, 1, 1, 1, 1,\n",
       "       1, 0, 1, 0, 0, 1, 0, 0, 0, 1, 1, 1, 0, 1, 1, 0, 1, 1, 0, 1, 0, 1,\n",
       "       0, 1, 0, 0, 0, 1, 0, 1, 0, 0, 1, 1, 0, 1, 0, 1, 1, 0, 0, 0, 1, 1,\n",
       "       0, 1, 1, 0, 0, 1, 1, 1, 0, 1, 1, 0, 0, 1, 0, 0, 1, 0, 0, 1, 1, 1,\n",
       "       1, 0, 1, 1, 1, 1, 0, 1, 1, 1, 1, 0, 1, 1, 1, 1, 1, 0, 1, 0, 0, 1,\n",
       "       0, 1, 0, 0, 0, 1, 1, 1, 1, 0, 0, 1, 1, 1, 1, 1, 0, 0, 1, 1, 1, 0,\n",
       "       1, 0, 0, 1, 0, 1, 1, 1, 0, 1, 0, 1, 1, 0, 1, 1, 1, 0, 1, 1, 0, 0,\n",
       "       0, 1, 0, 1, 0, 0, 0, 1, 1, 1, 1, 0, 1, 0, 1, 0, 1, 0, 1, 0, 0, 1,\n",
       "       0, 0, 1, 1, 1, 1, 0, 1, 1, 1, 0, 1, 0, 0, 1, 0, 0, 1, 0, 0, 0, 1,\n",
       "       1, 0, 0, 0, 1, 0, 1, 1, 1, 0, 0, 0, 0, 1, 1, 0, 1, 1, 1, 1, 0, 1,\n",
       "       0, 0, 1, 1, 0, 0, 1, 1, 1, 0, 1, 0, 1, 0, 0, 0, 0, 1, 1, 1, 0, 1,\n",
       "       0, 1, 0, 1, 1, 0, 1, 1, 0, 0, 0, 0, 1, 0, 1, 1, 1, 1, 1, 0, 0, 0,\n",
       "       0, 0, 1, 1, 1, 1, 0, 1, 1, 1, 1, 0, 0, 0, 1, 0, 1, 1, 1, 0, 0, 1,\n",
       "       0, 1, 0, 1, 0, 1, 1, 0, 0, 0, 1, 1, 0, 0, 0, 1, 1, 0, 0, 1, 0, 1,\n",
       "       1, 0, 1, 0, 0, 1, 1, 1, 0, 1, 1, 1, 0, 0, 1, 0, 1, 0, 0, 0, 0, 0,\n",
       "       0, 1, 1, 1, 0, 0, 1, 0, 1, 0, 0, 1, 1, 0, 0, 1, 0, 1, 1, 1, 0, 0,\n",
       "       1, 0, 0, 0, 0, 1, 0, 1, 0, 1, 0, 1, 0, 0, 0, 1, 1, 0, 1, 1, 1, 1,\n",
       "       1, 0, 0, 0, 0, 1, 1, 1, 1, 0, 0, 0, 1, 0, 1, 1, 1, 0, 1, 0, 0, 0,\n",
       "       0, 1, 1, 0, 0, 1, 0, 1, 1, 0, 1, 1, 0, 0, 1, 1, 0, 0, 0, 1, 1, 1,\n",
       "       1, 0, 0, 0, 1, 0, 1, 1, 1, 1, 1, 1, 1, 0, 1, 1, 0, 1, 1, 0, 1, 0,\n",
       "       0, 0, 0, 0, 0, 0, 1, 0, 0, 0, 0, 0, 1, 0, 1, 0, 1, 1, 0, 1, 0, 0,\n",
       "       0, 0, 1, 0, 1, 1, 1, 0, 1, 1, 0, 0, 0, 1, 1, 1, 1, 1, 1, 0, 1, 0,\n",
       "       1, 0, 0, 1, 1, 1, 0, 0, 0, 1, 1, 0, 1, 1, 1, 0, 0, 0, 1, 0, 0, 1,\n",
       "       0, 1, 1, 0, 1, 0, 1, 0, 0, 1, 0, 0, 0, 0, 1, 1, 0, 1, 0, 0, 1, 1,\n",
       "       1, 0, 1, 0, 0, 0, 0, 0, 0, 1, 1, 0, 1, 1, 1, 1, 1, 1, 1, 0, 1, 1,\n",
       "       1, 0, 0, 0, 0, 0, 1, 1, 0, 0, 0, 0, 1, 1, 1, 0, 1, 0, 1, 0, 0, 0,\n",
       "       1, 1, 0, 0, 0, 0, 1, 0, 0, 0, 0, 1, 1, 1, 0, 1, 1, 1, 0, 1, 0, 1,\n",
       "       1, 1, 1, 0, 0, 1, 1, 1, 0, 0, 0, 0, 0, 0, 0, 1, 1, 0, 1, 0, 1, 1,\n",
       "       1, 0, 1, 0, 1, 0, 1, 0, 0, 1, 0, 1, 0, 1, 0, 1, 0, 0, 0, 0, 0, 1,\n",
       "       1, 0, 1, 0, 0, 0, 1, 1, 0, 0, 0, 0, 1, 0, 1, 1, 1, 1, 0, 1, 0, 1,\n",
       "       1, 1, 0, 1, 1, 1, 0, 1, 0, 1, 1, 0, 0, 0, 1, 0, 1, 0, 1, 1, 0, 0,\n",
       "       0, 0, 1, 1, 0, 1, 0, 0, 1, 1, 1, 1, 1, 1, 0, 1, 1, 0, 0, 1, 0, 0,\n",
       "       1, 0, 1, 1, 1, 1, 1, 0, 0, 1, 1, 1, 1, 1, 1, 0, 0, 1, 0, 1, 1, 1,\n",
       "       1, 0, 1, 0, 1, 1, 1, 0, 1, 0, 0, 1, 1, 0, 1, 0, 0, 0, 0, 0, 1, 1,\n",
       "       0, 1, 0, 1, 1, 0, 0, 0, 1, 1], dtype=int64)"
      ]
     },
     "execution_count": 19,
     "metadata": {},
     "output_type": "execute_result"
    }
   ],
   "source": [
    "Y_train"
   ]
  },
  {
   "cell_type": "code",
   "execution_count": 20,
   "id": "3583393b",
   "metadata": {},
   "outputs": [],
   "source": [
    "from sklearn.linear_model import LogisticRegression"
   ]
  },
  {
   "cell_type": "code",
   "execution_count": 21,
   "id": "198f734b",
   "metadata": {},
   "outputs": [
    {
     "data": {
      "text/plain": [
       "LogisticRegression()"
      ]
     },
     "execution_count": 21,
     "metadata": {},
     "output_type": "execute_result"
    }
   ],
   "source": [
    "clf = LogisticRegression()\n",
    "\n",
    "dfmodel =clf.fit(X_train,Y_train) #best form e rakhte hobe\n",
    "dfmodel"
   ]
  },
  {
   "cell_type": "code",
   "execution_count": 22,
   "id": "8fbfd41c",
   "metadata": {},
   "outputs": [],
   "source": [
    "input_user = [99.179315,77, 1, 0, 0, 0, 0, 1]\n",
    "inf_prob = clf.predict_proba([input_user])[0][1]"
   ]
  },
  {
   "cell_type": "code",
   "execution_count": 23,
   "id": "f4e18482",
   "metadata": {},
   "outputs": [
    {
     "data": {
      "text/plain": [
       "0.5145293774767351"
      ]
     },
     "execution_count": 23,
     "metadata": {},
     "output_type": "execute_result"
    }
   ],
   "source": [
    "inf_prob"
   ]
  },
  {
   "cell_type": "code",
   "execution_count": 33,
   "id": "ddc33baf",
   "metadata": {},
   "outputs": [],
   "source": [
    "from sklearn.metrics import accuracy_score\n",
    "from sklearn import metrics"
   ]
  },
  {
   "cell_type": "code",
   "execution_count": 34,
   "id": "42e7a1ba",
   "metadata": {},
   "outputs": [
    {
     "name": "stdout",
     "output_type": "stream",
     "text": [
      "Accuracy:  56.68202764976959\n"
     ]
    }
   ],
   "source": [
    "# print metric to get performance\n",
    "print(\"Accuracy: \",clf.score(X_test, Y_test) * 100)"
   ]
  },
  {
   "cell_type": "code",
   "execution_count": 26,
   "id": "2eb40514",
   "metadata": {},
   "outputs": [],
   "source": [
    "pred = clf.predict([input_user])"
   ]
  },
  {
   "cell_type": "code",
   "execution_count": 27,
   "id": "b18bae7b",
   "metadata": {},
   "outputs": [
    {
     "data": {
      "text/plain": [
       "array([1], dtype=int64)"
      ]
     },
     "execution_count": 27,
     "metadata": {},
     "output_type": "execute_result"
    }
   ],
   "source": [
    "pred"
   ]
  },
  {
   "cell_type": "code",
   "execution_count": 28,
   "id": "8ffe4922",
   "metadata": {},
   "outputs": [
    {
     "name": "stdout",
     "output_type": "stream",
     "text": [
      "paitent is affected\n"
     ]
    }
   ],
   "source": [
    "if pred == 1:\n",
    "    print(\"paitent is affected\")\n",
    "else:\n",
    "    print(\"paitent is not affected\")"
   ]
  },
  {
   "cell_type": "code",
   "execution_count": 29,
   "id": "24574ff6",
   "metadata": {},
   "outputs": [],
   "source": [
    "import pickle"
   ]
  },
  {
   "cell_type": "code",
   "execution_count": 30,
   "id": "2333f0e4",
   "metadata": {},
   "outputs": [],
   "source": [
    "file = open('Corona_vir_project.pkl','wb')\n",
    "pickle.dump(dfmodel,file)"
   ]
  },
  {
   "cell_type": "code",
   "execution_count": null,
   "id": "1bf5dbad",
   "metadata": {},
   "outputs": [],
   "source": []
  }
 ],
 "metadata": {
  "kernelspec": {
   "display_name": "Python 3 (ipykernel)",
   "language": "python",
   "name": "python3"
  },
  "language_info": {
   "codemirror_mode": {
    "name": "ipython",
    "version": 3
   },
   "file_extension": ".py",
   "mimetype": "text/x-python",
   "name": "python",
   "nbconvert_exporter": "python",
   "pygments_lexer": "ipython3",
   "version": "3.9.6"
  }
 },
 "nbformat": 4,
 "nbformat_minor": 5
}
